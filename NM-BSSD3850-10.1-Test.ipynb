{
 "cells": [
  {
   "cell_type": "markdown",
   "metadata": {
    "id": "x4HI2mpwlrcn"
   },
   "source": [
    "##### Copyright 2019 The TensorFlow Authors."
   ]
  },
  {
   "cell_type": "code",
   "execution_count": 1,
   "metadata": {
    "cellView": "form",
    "execution": {
     "iopub.execute_input": "2021-01-06T02:26:25.497716Z",
     "iopub.status.busy": "2021-01-06T02:26:25.497007Z",
     "iopub.status.idle": "2021-01-06T02:26:25.499149Z",
     "shell.execute_reply": "2021-01-06T02:26:25.499599Z"
    },
    "id": "679Lmwt3l1Bk"
   },
   "outputs": [],
   "source": [
    "#@title Licensed under the Apache License, Version 2.0 (the \"License\");\n",
    "# you may not use this file except in compliance with the License.\n",
    "# You may obtain a copy of the License at\n",
    "#\n",
    "# https://www.apache.org/licenses/LICENSE-2.0\n",
    "#\n",
    "# Unless required by applicable law or agreed to in writing, software\n",
    "# distributed under the License is distributed on an \"AS IS\" BASIS,\n",
    "# WITHOUT WARRANTIES OR CONDITIONS OF ANY KIND, either express or implied.\n",
    "# See the License for the specific language governing permissions and\n",
    "# limitations under the License."
   ]
  },
  {
   "cell_type": "code",
   "execution_count": 2,
   "metadata": {
    "execution": {
     "iopub.execute_input": "2021-01-06T02:26:25.508587Z",
     "iopub.status.busy": "2021-01-06T02:26:25.507936Z",
     "iopub.status.idle": "2021-01-06T02:26:32.576008Z",
     "shell.execute_reply": "2021-01-06T02:26:32.576483Z"
    },
    "id": "iAve6DCL4JH4"
   },
   "outputs": [],
   "source": [
    "import tensorflow as tf\n",
    "\n",
    "from tensorflow.keras import datasets, layers, models\n",
    "import matplotlib.pyplot as plt"
   ]
  },
  {
   "cell_type": "code",
   "execution_count": 3,
   "metadata": {
    "execution": {
     "iopub.execute_input": "2021-01-06T02:26:32.583079Z",
     "iopub.status.busy": "2021-01-06T02:26:32.582385Z",
     "iopub.status.idle": "2021-01-06T02:26:46.965320Z",
     "shell.execute_reply": "2021-01-06T02:26:46.964658Z"
    },
    "id": "JWoEqyMuXFF4"
   },
   "outputs": [],
   "source": [
    "(train_images, train_labels), (test_images, test_labels) = datasets.cifar10.load_data()\n",
    "\n",
    "# Normalize pixel values to be between 0 and 1\n",
    "train_images, test_images = train_images / 255.0, test_images / 255.0\n",
    "\n",
    "class_names = ['airplane', 'automobile', 'bird', 'cat', 'deer',\n",
    "               'dog', 'frog', 'horse', 'ship', 'truck']"
   ]
  },
  {
   "cell_type": "code",
   "execution_count": 4,
   "metadata": {
    "execution": {
     "iopub.execute_input": "2021-01-06T02:26:48.234302Z",
     "iopub.status.busy": "2021-01-06T02:26:48.229148Z",
     "iopub.status.idle": "2021-01-06T02:26:57.095770Z",
     "shell.execute_reply": "2021-01-06T02:26:57.095008Z"
    },
    "id": "L9YmGQBQPrdn"
   },
   "outputs": [],
   "source": [
    "window = (3,3)\n",
    "stride = 1\n",
    "\n",
    "model = models.Sequential()\n",
    "\n",
    "model.add(layers.Conv2D(32, window, padding='same', input_shape=(32, 32, 3)))\n",
    "model.add(layers.LeakyReLU())\n",
    "model.add(layers.Conv2D(32, window))\n",
    "model.add(layers.LeakyReLU())\n",
    "model.add(layers.Conv2D(32, window, strides=stride))\n",
    "model.add(layers.LeakyReLU())\n",
    "\n",
    "model.add(layers.Conv2D(64, window))\n",
    "model.add(layers.LeakyReLU())\n",
    "model.add(layers.Dropout(0.1))\n",
    "model.add(layers.Conv2D(64, window))\n",
    "model.add(layers.LeakyReLU())\n",
    "model.add(layers.Dropout(0.1))\n",
    "\n",
    "model.add(layers.Flatten())\n",
    "model.add(layers.Dense(64))\n",
    "model.add(layers.LeakyReLU())\n",
    "model.add(layers.Dense(10))"
   ]
  },
  {
   "cell_type": "code",
   "execution_count": 7,
   "metadata": {},
   "outputs": [],
   "source": [
    "from tensorflow.keras.preprocessing.image import ImageDataGenerator"
   ]
  },
  {
   "cell_type": "code",
   "execution_count": 8,
   "metadata": {},
   "outputs": [],
   "source": [
    "datagen = ImageDataGenerator(\n",
    "        width_shift_range=0.1,\n",
    "        height_shift_range=0.1,\n",
    "        horizontal_flip=True,\n",
    "        vertical_flip=False)"
   ]
  },
  {
   "cell_type": "code",
   "execution_count": 5,
   "metadata": {
    "execution": {
     "iopub.execute_input": "2021-01-06T02:26:57.160108Z",
     "iopub.status.busy": "2021-01-06T02:26:57.159440Z",
     "iopub.status.idle": "2021-01-06T02:28:10.322529Z",
     "shell.execute_reply": "2021-01-06T02:28:10.323002Z"
    },
    "id": "MdDzI75PUXrG"
   },
   "outputs": [],
   "source": [
    "model.compile(optimizer='adam',\n",
    "            loss=tf.keras.losses.SparseCategoricalCrossentropy(from_logits=True),              \n",
    "            metrics=['accuracy'])"
   ]
  },
  {
   "cell_type": "code",
   "execution_count": 13,
   "metadata": {},
   "outputs": [
    {
     "name": "stdout",
     "output_type": "stream",
     "text": [
      "Epoch 1/10\n",
      "196/196 [==============================] - 87s 436ms/step - loss: 0.5931 - accuracy: 0.7930 - val_loss: 0.5701 - val_accuracy: 0.8032\n",
      "Epoch 2/10\n",
      "196/196 [==============================] - 86s 437ms/step - loss: 0.5912 - accuracy: 0.7916 - val_loss: 0.6154 - val_accuracy: 0.7914\n",
      "Epoch 3/10\n",
      "196/196 [==============================] - 84s 428ms/step - loss: 0.5832 - accuracy: 0.7972 - val_loss: 0.5775 - val_accuracy: 0.8010\n",
      "Epoch 4/10\n",
      "196/196 [==============================] - 84s 427ms/step - loss: 0.5838 - accuracy: 0.7964 - val_loss: 0.6158 - val_accuracy: 0.7912\n",
      "Epoch 5/10\n",
      "196/196 [==============================] - 84s 428ms/step - loss: 0.5834 - accuracy: 0.7964 - val_loss: 0.6001 - val_accuracy: 0.7940\n",
      "Epoch 6/10\n",
      "196/196 [==============================] - 84s 428ms/step - loss: 0.5762 - accuracy: 0.7999 - val_loss: 0.6153 - val_accuracy: 0.7919\n",
      "Epoch 7/10\n",
      "196/196 [==============================] - 86s 437ms/step - loss: 0.5673 - accuracy: 0.8013 - val_loss: 0.5736 - val_accuracy: 0.8033\n",
      "Epoch 8/10\n",
      "196/196 [==============================] - 86s 436ms/step - loss: 0.5663 - accuracy: 0.7999 - val_loss: 0.5714 - val_accuracy: 0.8016\n",
      "Epoch 9/10\n",
      "196/196 [==============================] - 84s 428ms/step - loss: 0.5662 - accuracy: 0.8007 - val_loss: 0.5628 - val_accuracy: 0.8084\n",
      "Epoch 10/10\n",
      "196/196 [==============================] - 85s 433ms/step - loss: 0.5628 - accuracy: 0.8020 - val_loss: 0.5925 - val_accuracy: 0.7986\n"
     ]
    }
   ],
   "source": [
    "history = model.fit(datagen.flow(train_images, train_labels, batch_size=256), epochs=10, \n",
    "                    validation_data=(test_images, test_labels))"
   ]
  },
  {
   "cell_type": "code",
   "execution_count": 14,
   "metadata": {
    "execution": {
     "iopub.execute_input": "2021-01-06T02:28:10.462096Z",
     "iopub.status.busy": "2021-01-06T02:28:10.461327Z",
     "iopub.status.idle": "2021-01-06T02:28:11.436199Z",
     "shell.execute_reply": "2021-01-06T02:28:11.435633Z"
    },
    "id": "gtyDF0MKUcM7"
   },
   "outputs": [
    {
     "name": "stdout",
     "output_type": "stream",
     "text": [
      "313/313 - 4s - loss: 0.5925 - accuracy: 0.7986\n"
     ]
    },
    {
     "data": {
      "image/png": "[encoded data removed]",
      "text/plain": [
       "<Figure size 432x288 with 1 Axes>"
      ]
     },
     "metadata": {
      "needs_background": "light"
     },
     "output_type": "display_data"
    }
   ],
   "source": [
    "plt.plot(history.history['accuracy'], label='accuracy')\n",
    "plt.plot(history.history['val_accuracy'], label = 'val_accuracy')\n",
    "plt.xlabel('Epoch')\n",
    "plt.ylabel('Accuracy')\n",
    "plt.ylim([0.5, 1])\n",
    "plt.legend(loc='lower right')\n",
    "\n",
    "test_loss, test_acc = model.evaluate(test_images,  test_labels, verbose=2)"
   ]
  },
  {
   "cell_type": "code",
   "execution_count": 15,
   "metadata": {
    "execution": {
     "iopub.execute_input": "2021-01-06T02:28:11.440859Z",
     "iopub.status.busy": "2021-01-06T02:28:11.440171Z",
     "iopub.status.idle": "2021-01-06T02:28:11.442412Z",
     "shell.execute_reply": "2021-01-06T02:28:11.442844Z"
    },
    "id": "0LvwaKhtUdOo"
   },
   "outputs": [
    {
     "name": "stdout",
     "output_type": "stream",
     "text": [
      "0.7986000180244446\n"
     ]
    }
   ],
   "source": [
    "print(test_acc)"
   ]
  },
  {
   "cell_type": "code",
   "execution_count": 16,
   "metadata": {},
   "outputs": [
    {
     "name": "stdout",
     "output_type": "stream",
     "text": [
      "INFO:tensorflow:Assets written to: BSSD3850-cifar10-cnn/assets\n"
     ]
    }
   ],
   "source": [
    "model.save('BSSD3850-cifar10-cnn')"
   ]
  }
 ],
 "metadata": {
  "accelerator": "GPU",
  "colab": {
   "collapsed_sections": [],
   "name": "cnn.ipynb",
   "toc_visible": true
  },
  "kernelspec": {
   "display_name": "Python 3",
   "language": "python",
   "name": "python3"
  },
  "language_info": {
   "codemirror_mode": {
    "name": "ipython",
    "version": 3
   },
   "file_extension": ".py",
   "mimetype": "text/x-python",
   "name": "python",
   "nbconvert_exporter": "python",
   "pygments_lexer": "ipython3",
   "version": "3.7.8"
  }
 },
 "nbformat": 4,
 "nbformat_minor": 1
}
